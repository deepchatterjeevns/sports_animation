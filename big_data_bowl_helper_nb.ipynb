{
 "cells": [
  {
   "cell_type": "code",
   "execution_count": 1,
   "metadata": {},
   "outputs": [],
   "source": [
    "import pandas as pd\n",
    "import numpy as np\n",
    "import glob\n",
    "import os"
   ]
  },
  {
   "cell_type": "code",
   "execution_count": 2,
   "metadata": {
    "scrolled": true
   },
   "outputs": [],
   "source": [
    "path_bdb = '../../Personal/Sports Analytics/NFL/big_data_bowl_2021/'\n",
    "for f in glob.glob(path_bdb + '/*.csv'):\n",
    "    #print (f)\n",
    "    x=0\n",
    "\n",
    "\"\"\" Notes about data fields\n",
    "    gameId - unique\n",
    "    playId - not unique across games\n",
    "(n) uniqPlayId = gameId + '_' + playId\n",
    "\"\"\"\n",
    "    \n",
    "df_games = pd.read_csv(path_bdb + '/games.csv')\n",
    "df_players = pd.read_csv(path_bdb + '/players.csv')\n",
    "df_plays = pd.read_csv(path_bdb + '/plays.csv')\n",
    "df_week1 = pd.read_csv(path_bdb + '/week1.csv')\n",
    "\n"
   ]
  },
  {
   "cell_type": "code",
   "execution_count": 3,
   "metadata": {
    "scrolled": true
   },
   "outputs": [
    {
     "data": {
      "text/plain": [
       "\"\\nfor 1 in range(1,18):\\n    df_week_file = split_week_into_game_plays(path_bdb + '/week' + str(i) + '.csv')\\n    print ('Week', str(i), 'Complete')\\n\""
      ]
     },
     "execution_count": 3,
     "metadata": {},
     "output_type": "execute_result"
    }
   ],
   "source": [
    "def split_week_into_game_plays(week_file):\n",
    "    \"\"\"\n",
    "    Given the week number, open that csv file, and split the file into\n",
    "      the individual game_play ids\n",
    "    \"\"\"\n",
    "    \n",
    "    fldr = week_file.split('/')[-1][:-4]\n",
    "    df_week_file = pd.read_csv(week_file)\n",
    "    df_week_file['uniqPlayId'] = df_week_file.apply(lambda x: str(x['gameId']) + '_' + str(x['playId']), axis=1)\n",
    "    uniqPlayIds = list(set(df_week_file['uniqPlayId']))\n",
    "    for uniqPlayId in uniqPlayIds:\n",
    "        df_filtered = df_week_file[df_week_file['uniqPlayId']==uniqPlayId]\n",
    "        df_filtered.to_csv(path_bdb + '/' + fldr + '/' + uniqPlayId + '.csv', index=False)\n",
    "    \n",
    "# You'll want to create the week1, week2, ..., week17 folders inside of the `path_bdb` direcctory\n",
    "#   before uncommenting and running the below commented for loop\n",
    "\n",
    "\"\"\"\n",
    "for 1 in range(1,18):\n",
    "    df_week_file = split_week_into_game_plays(path_bdb + '/week' + str(i) + '.csv')\n",
    "    print ('Week', str(i), 'Complete')\n",
    "\"\"\""
   ]
  },
  {
   "cell_type": "code",
   "execution_count": null,
   "metadata": {},
   "outputs": [],
   "source": []
  }
 ],
 "metadata": {
  "kernelspec": {
   "display_name": "Python 3",
   "language": "python",
   "name": "python3"
  },
  "language_info": {
   "codemirror_mode": {
    "name": "ipython",
    "version": 3
   },
   "file_extension": ".py",
   "mimetype": "text/x-python",
   "name": "python",
   "nbconvert_exporter": "python",
   "pygments_lexer": "ipython3",
   "version": "3.7.1"
  }
 },
 "nbformat": 4,
 "nbformat_minor": 2
}
